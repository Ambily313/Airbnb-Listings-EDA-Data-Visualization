{
 "cells": [
  {
   "cell_type": "markdown",
   "id": "bbfc97af",
   "metadata": {},
   "source": [
    "# Airbnb Listings – Exploratory Data Analysis & Visualization with Pandas"
   ]
  },
  {
   "cell_type": "code",
   "execution_count": 1,
   "id": "5f67544c",
   "metadata": {},
   "outputs": [],
   "source": [
    "import os\n",
    "import pandas as pd\n",
    "import matplotlib.pyplot as plt\n",
    "import seaborn as sns"
   ]
  },
  {
   "cell_type": "markdown",
   "id": "f86fc8e6",
   "metadata": {},
   "source": [
    "###  Data Cleaning & Preprocessing "
   ]
  },
  {
   "cell_type": "code",
   "execution_count": 2,
   "id": "d7414bbc",
   "metadata": {},
   "outputs": [],
   "source": [
    "# Load the dataset and display the first 5 rows.\n",
    "\n",
    "# Get current working directory\n",
    "cwd = os.getcwd()\n",
    "\n",
    "# Define the folder and filename\n",
    "data_dir = os.path.join(cwd, 'Data')   # 'Data' is the subfolder\n",
    "file_name = 'airbnb.csv'\n",
    "\n",
    "# Create the full path\n",
    "file_path = os.path.join(data_dir, file_name)\n"
   ]
  },
  {
   "cell_type": "code",
   "execution_count": 3,
   "id": "fb46b8bc",
   "metadata": {},
   "outputs": [
    {
     "data": {
      "text/html": [
       "<div>\n",
       "<style scoped>\n",
       "    .dataframe tbody tr th:only-of-type {\n",
       "        vertical-align: middle;\n",
       "    }\n",
       "\n",
       "    .dataframe tbody tr th {\n",
       "        vertical-align: top;\n",
       "    }\n",
       "\n",
       "    .dataframe thead th {\n",
       "        text-align: right;\n",
       "    }\n",
       "</style>\n",
       "<table border=\"1\" class=\"dataframe\">\n",
       "  <thead>\n",
       "    <tr style=\"text-align: right;\">\n",
       "      <th></th>\n",
       "      <th>Unnamed: 0</th>\n",
       "      <th>id</th>\n",
       "      <th>name</th>\n",
       "      <th>rating</th>\n",
       "      <th>reviews</th>\n",
       "      <th>host_name</th>\n",
       "      <th>host_id</th>\n",
       "      <th>address</th>\n",
       "      <th>features</th>\n",
       "      <th>amenities</th>\n",
       "      <th>...</th>\n",
       "      <th>price</th>\n",
       "      <th>country</th>\n",
       "      <th>bathrooms</th>\n",
       "      <th>beds</th>\n",
       "      <th>guests</th>\n",
       "      <th>toiles</th>\n",
       "      <th>bedrooms</th>\n",
       "      <th>studios</th>\n",
       "      <th>checkin</th>\n",
       "      <th>checkout</th>\n",
       "    </tr>\n",
       "  </thead>\n",
       "  <tbody>\n",
       "    <tr>\n",
       "      <th>0</th>\n",
       "      <td>0</td>\n",
       "      <td>49849504</td>\n",
       "      <td>Perla bungalov</td>\n",
       "      <td>4.71</td>\n",
       "      <td>64</td>\n",
       "      <td>Mehmetcan</td>\n",
       "      <td>357334205.0</td>\n",
       "      <td>Kartepe, Kocaeli, Turkey</td>\n",
       "      <td>2 guests,2 bedrooms,1 bed,1 bathroom</td>\n",
       "      <td>Mountain view,Valley view,Lake access,Kitchen,...</td>\n",
       "      <td>...</td>\n",
       "      <td>8078</td>\n",
       "      <td>Turkey</td>\n",
       "      <td>1</td>\n",
       "      <td>1</td>\n",
       "      <td>2</td>\n",
       "      <td>0</td>\n",
       "      <td>2</td>\n",
       "      <td>0</td>\n",
       "      <td>Flexible</td>\n",
       "      <td>12 00 pm</td>\n",
       "    </tr>\n",
       "    <tr>\n",
       "      <th>1</th>\n",
       "      <td>1</td>\n",
       "      <td>50891766</td>\n",
       "      <td>Authentic Beach Architect Sheltered Villa with...</td>\n",
       "      <td>New</td>\n",
       "      <td>0</td>\n",
       "      <td>Fatih</td>\n",
       "      <td>386223873.0</td>\n",
       "      <td>Kaş, Antalya, Turkey</td>\n",
       "      <td>4 guests,2 bedrooms,2 beds,2 bathrooms</td>\n",
       "      <td>Kitchen,Wifi,Dedicated workspace,Free parking ...</td>\n",
       "      <td>...</td>\n",
       "      <td>4665</td>\n",
       "      <td>Turkey</td>\n",
       "      <td>2</td>\n",
       "      <td>2</td>\n",
       "      <td>4</td>\n",
       "      <td>0</td>\n",
       "      <td>2</td>\n",
       "      <td>0</td>\n",
       "      <td>4 00 pm - 11 00 pm</td>\n",
       "      <td>10 00 am</td>\n",
       "    </tr>\n",
       "    <tr>\n",
       "      <th>2</th>\n",
       "      <td>2</td>\n",
       "      <td>50699164</td>\n",
       "      <td>cottages sataplia</td>\n",
       "      <td>4.85</td>\n",
       "      <td>68</td>\n",
       "      <td>Giorgi</td>\n",
       "      <td>409690853.0</td>\n",
       "      <td>Imereti, Georgia</td>\n",
       "      <td>4 guests,1 bedroom,3 beds,1 bathroom</td>\n",
       "      <td>Mountain view,Kitchen,Wifi,Dedicated workspace...</td>\n",
       "      <td>...</td>\n",
       "      <td>5991</td>\n",
       "      <td>Georgia</td>\n",
       "      <td>1</td>\n",
       "      <td>3</td>\n",
       "      <td>4</td>\n",
       "      <td>0</td>\n",
       "      <td>1</td>\n",
       "      <td>0</td>\n",
       "      <td>After 1 00 pm</td>\n",
       "      <td>12 00 pm</td>\n",
       "    </tr>\n",
       "    <tr>\n",
       "      <th>3</th>\n",
       "      <td>3</td>\n",
       "      <td>49871422</td>\n",
       "      <td>Sapanca Breathable Bungalow</td>\n",
       "      <td>5.0</td>\n",
       "      <td>13</td>\n",
       "      <td>Melih</td>\n",
       "      <td>401873242.0</td>\n",
       "      <td>Sapanca, Sakarya, Turkey</td>\n",
       "      <td>4 guests,1 bedroom,2 beds,1 bathroom</td>\n",
       "      <td>Mountain view,Valley view,Kitchen,Wifi,Free pa...</td>\n",
       "      <td>...</td>\n",
       "      <td>11339</td>\n",
       "      <td>Turkey</td>\n",
       "      <td>1</td>\n",
       "      <td>2</td>\n",
       "      <td>4</td>\n",
       "      <td>0</td>\n",
       "      <td>1</td>\n",
       "      <td>0</td>\n",
       "      <td>After 2 00 pm</td>\n",
       "      <td>12 00 pm</td>\n",
       "    </tr>\n",
       "    <tr>\n",
       "      <th>4</th>\n",
       "      <td>4</td>\n",
       "      <td>51245886</td>\n",
       "      <td>Bungalov Ev 2</td>\n",
       "      <td>New</td>\n",
       "      <td>0</td>\n",
       "      <td>Arp Sapanca</td>\n",
       "      <td>414884116.0</td>\n",
       "      <td>Sapanca, Sakarya, Turkey</td>\n",
       "      <td>2 guests,1 bedroom,1 bed,1 bathroom</td>\n",
       "      <td>Kitchen,Wifi,Free parking on premises,TV,Air c...</td>\n",
       "      <td>...</td>\n",
       "      <td>6673</td>\n",
       "      <td>Turkey</td>\n",
       "      <td>1</td>\n",
       "      <td>1</td>\n",
       "      <td>2</td>\n",
       "      <td>0</td>\n",
       "      <td>1</td>\n",
       "      <td>0</td>\n",
       "      <td>After 2 00 pm</td>\n",
       "      <td>12 00 pm</td>\n",
       "    </tr>\n",
       "  </tbody>\n",
       "</table>\n",
       "<p>5 rows × 23 columns</p>\n",
       "</div>"
      ],
      "text/plain": [
       "   Unnamed: 0        id                                               name  \\\n",
       "0           0  49849504                                     Perla bungalov   \n",
       "1           1  50891766  Authentic Beach Architect Sheltered Villa with...   \n",
       "2           2  50699164                                  cottages sataplia   \n",
       "3           3  49871422                        Sapanca Breathable Bungalow   \n",
       "4           4  51245886                                      Bungalov Ev 2   \n",
       "\n",
       "  rating reviews    host_name      host_id                   address  \\\n",
       "0   4.71      64    Mehmetcan  357334205.0  Kartepe, Kocaeli, Turkey   \n",
       "1    New       0        Fatih  386223873.0      Kaş, Antalya, Turkey   \n",
       "2   4.85      68       Giorgi  409690853.0          Imereti, Georgia   \n",
       "3    5.0      13        Melih  401873242.0  Sapanca, Sakarya, Turkey   \n",
       "4    New       0  Arp Sapanca  414884116.0  Sapanca, Sakarya, Turkey   \n",
       "\n",
       "                                 features  \\\n",
       "0    2 guests,2 bedrooms,1 bed,1 bathroom   \n",
       "1  4 guests,2 bedrooms,2 beds,2 bathrooms   \n",
       "2    4 guests,1 bedroom,3 beds,1 bathroom   \n",
       "3    4 guests,1 bedroom,2 beds,1 bathroom   \n",
       "4     2 guests,1 bedroom,1 bed,1 bathroom   \n",
       "\n",
       "                                           amenities  ...  price   country  \\\n",
       "0  Mountain view,Valley view,Lake access,Kitchen,...  ...   8078    Turkey   \n",
       "1  Kitchen,Wifi,Dedicated workspace,Free parking ...  ...   4665    Turkey   \n",
       "2  Mountain view,Kitchen,Wifi,Dedicated workspace...  ...   5991   Georgia   \n",
       "3  Mountain view,Valley view,Kitchen,Wifi,Free pa...  ...  11339    Turkey   \n",
       "4  Kitchen,Wifi,Free parking on premises,TV,Air c...  ...   6673    Turkey   \n",
       "\n",
       "  bathrooms  beds guests  toiles  bedrooms  studios              checkin  \\\n",
       "0         1     1      2       0         2        0             Flexible   \n",
       "1         2     2      4       0         2        0   4 00 pm - 11 00 pm   \n",
       "2         1     3      4       0         1        0        After 1 00 pm   \n",
       "3         1     2      4       0         1        0        After 2 00 pm   \n",
       "4         1     1      2       0         1        0        After 2 00 pm   \n",
       "\n",
       "    checkout  \n",
       "0   12 00 pm  \n",
       "1   10 00 am  \n",
       "2   12 00 pm  \n",
       "3   12 00 pm  \n",
       "4   12 00 pm  \n",
       "\n",
       "[5 rows x 23 columns]"
      ]
     },
     "execution_count": 3,
     "metadata": {},
     "output_type": "execute_result"
    }
   ],
   "source": [
    "\n",
    "df = pd.read_csv(file_path)\n",
    "df.head()"
   ]
  },
  {
   "cell_type": "code",
   "execution_count": 4,
   "id": "6f43c700",
   "metadata": {},
   "outputs": [
    {
     "data": {
      "text/plain": [
       "Index(['Unnamed: 0', 'id', 'name', 'rating', 'reviews', 'host_name', 'host_id',\n",
       "       'address', 'features', 'amenities', 'safety_rules', 'hourse_rules',\n",
       "       'img_links', 'price', 'country', 'bathrooms', 'beds', 'guests',\n",
       "       'toiles', 'bedrooms', 'studios', 'checkin', 'checkout'],\n",
       "      dtype='object')"
      ]
     },
     "execution_count": 4,
     "metadata": {},
     "output_type": "execute_result"
    }
   ],
   "source": [
    "df.columns"
   ]
  },
  {
   "cell_type": "code",
   "execution_count": 5,
   "id": "cf3d1ad6",
   "metadata": {},
   "outputs": [
    {
     "data": {
      "text/plain": [
       "(12805, 23)"
      ]
     },
     "execution_count": 5,
     "metadata": {},
     "output_type": "execute_result"
    }
   ],
   "source": [
    "# shape of data\n",
    "df.shape"
   ]
  },
  {
   "cell_type": "code",
   "execution_count": 6,
   "id": "78c3a33e",
   "metadata": {},
   "outputs": [
    {
     "name": "stdout",
     "output_type": "stream",
     "text": [
      "<class 'pandas.core.frame.DataFrame'>\n",
      "RangeIndex: 12805 entries, 0 to 12804\n",
      "Data columns (total 23 columns):\n",
      " #   Column        Non-Null Count  Dtype  \n",
      "---  ------        --------------  -----  \n",
      " 0   Unnamed: 0    12805 non-null  int64  \n",
      " 1   id            12805 non-null  int64  \n",
      " 2   name          12805 non-null  object \n",
      " 3   rating        12805 non-null  object \n",
      " 4   reviews       12805 non-null  object \n",
      " 5   host_name     12797 non-null  object \n",
      " 6   host_id       12805 non-null  float64\n",
      " 7   address       12805 non-null  object \n",
      " 8   features      12805 non-null  object \n",
      " 9   amenities     12805 non-null  object \n",
      " 10  safety_rules  12805 non-null  object \n",
      " 11  hourse_rules  12805 non-null  object \n",
      " 12  img_links     12805 non-null  object \n",
      " 13  price         12805 non-null  int64  \n",
      " 14  country       12805 non-null  object \n",
      " 15  bathrooms     12805 non-null  int64  \n",
      " 16  beds          12805 non-null  int64  \n",
      " 17  guests        12805 non-null  int64  \n",
      " 18  toiles        12805 non-null  int64  \n",
      " 19  bedrooms      12805 non-null  int64  \n",
      " 20  studios       12805 non-null  int64  \n",
      " 21  checkin       12005 non-null  object \n",
      " 22  checkout      10355 non-null  object \n",
      "dtypes: float64(1), int64(9), object(13)\n",
      "memory usage: 2.2+ MB\n"
     ]
    }
   ],
   "source": [
    "df.info()"
   ]
  },
  {
   "cell_type": "code",
   "execution_count": 7,
   "id": "7394c92c",
   "metadata": {},
   "outputs": [
    {
     "data": {
      "text/plain": [
       "Unnamed: 0         0\n",
       "id                 0\n",
       "name               0\n",
       "rating             0\n",
       "reviews            0\n",
       "host_name          8\n",
       "host_id            0\n",
       "address            0\n",
       "features           0\n",
       "amenities          0\n",
       "safety_rules       0\n",
       "hourse_rules       0\n",
       "img_links          0\n",
       "price              0\n",
       "country            0\n",
       "bathrooms          0\n",
       "beds               0\n",
       "guests             0\n",
       "toiles             0\n",
       "bedrooms           0\n",
       "studios            0\n",
       "checkin          800\n",
       "checkout        2450\n",
       "dtype: int64"
      ]
     },
     "execution_count": 7,
     "metadata": {},
     "output_type": "execute_result"
    }
   ],
   "source": [
    "# Check for missing values and handle them appropriately.\n",
    "\n",
    "df.isnull().sum()"
   ]
  },
  {
   "cell_type": "markdown",
   "id": "342d9e81",
   "metadata": {},
   "source": [
    "two columns with notable missing data:\n",
    "\n",
    "checkin: 800 missing\n",
    "\n",
    "checkout: 2450 missing\n",
    "\n",
    "host_name: Only 8 missing → very minor"
   ]
  },
  {
   "cell_type": "code",
   "execution_count": 8,
   "id": "73e136f0",
   "metadata": {},
   "outputs": [
    {
     "name": "stderr",
     "output_type": "stream",
     "text": [
      "C:\\Users\\hp\\AppData\\Local\\Temp\\ipykernel_16404\\1356250439.py:1: FutureWarning: A value is trying to be set on a copy of a DataFrame or Series through chained assignment using an inplace method.\n",
      "The behavior will change in pandas 3.0. This inplace method will never work because the intermediate object on which we are setting values always behaves as a copy.\n",
      "\n",
      "For example, when doing 'df[col].method(value, inplace=True)', try using 'df.method({col: value}, inplace=True)' or df[col] = df[col].method(value) instead, to perform the operation inplace on the original object.\n",
      "\n",
      "\n",
      "  df['checkin'].fillna('Not Provided',inplace=True)\n",
      "C:\\Users\\hp\\AppData\\Local\\Temp\\ipykernel_16404\\1356250439.py:2: FutureWarning: A value is trying to be set on a copy of a DataFrame or Series through chained assignment using an inplace method.\n",
      "The behavior will change in pandas 3.0. This inplace method will never work because the intermediate object on which we are setting values always behaves as a copy.\n",
      "\n",
      "For example, when doing 'df[col].method(value, inplace=True)', try using 'df.method({col: value}, inplace=True)' or df[col] = df[col].method(value) instead, to perform the operation inplace on the original object.\n",
      "\n",
      "\n",
      "  df['checkout'].fillna('Not Provided',inplace=True)\n",
      "C:\\Users\\hp\\AppData\\Local\\Temp\\ipykernel_16404\\1356250439.py:3: FutureWarning: A value is trying to be set on a copy of a DataFrame or Series through chained assignment using an inplace method.\n",
      "The behavior will change in pandas 3.0. This inplace method will never work because the intermediate object on which we are setting values always behaves as a copy.\n",
      "\n",
      "For example, when doing 'df[col].method(value, inplace=True)', try using 'df.method({col: value}, inplace=True)' or df[col] = df[col].method(value) instead, to perform the operation inplace on the original object.\n",
      "\n",
      "\n",
      "  df['host_name'].fillna('Not Available',inplace=True)\n"
     ]
    }
   ],
   "source": [
    "df['checkin'].fillna('Not Provided',inplace=True)\n",
    "df['checkout'].fillna('Not Provided',inplace=True)\n",
    "df['host_name'].fillna('Not Available',inplace=True)"
   ]
  },
  {
   "cell_type": "code",
   "execution_count": 9,
   "id": "494d1085",
   "metadata": {},
   "outputs": [
    {
     "data": {
      "text/plain": [
       "Unnamed: 0      0\n",
       "id              0\n",
       "name            0\n",
       "rating          0\n",
       "reviews         0\n",
       "host_name       0\n",
       "host_id         0\n",
       "address         0\n",
       "features        0\n",
       "amenities       0\n",
       "safety_rules    0\n",
       "hourse_rules    0\n",
       "img_links       0\n",
       "price           0\n",
       "country         0\n",
       "bathrooms       0\n",
       "beds            0\n",
       "guests          0\n",
       "toiles          0\n",
       "bedrooms        0\n",
       "studios         0\n",
       "checkin         0\n",
       "checkout        0\n",
       "dtype: int64"
      ]
     },
     "execution_count": 9,
     "metadata": {},
     "output_type": "execute_result"
    }
   ],
   "source": [
    "df.isnull().sum()"
   ]
  },
  {
   "cell_type": "code",
   "execution_count": 10,
   "id": "6f3718d3",
   "metadata": {},
   "outputs": [
    {
     "data": {
      "text/html": [
       "<div>\n",
       "<style scoped>\n",
       "    .dataframe tbody tr th:only-of-type {\n",
       "        vertical-align: middle;\n",
       "    }\n",
       "\n",
       "    .dataframe tbody tr th {\n",
       "        vertical-align: top;\n",
       "    }\n",
       "\n",
       "    .dataframe thead th {\n",
       "        text-align: right;\n",
       "    }\n",
       "</style>\n",
       "<table border=\"1\" class=\"dataframe\">\n",
       "  <thead>\n",
       "    <tr style=\"text-align: right;\">\n",
       "      <th></th>\n",
       "      <th>id</th>\n",
       "      <th>name</th>\n",
       "      <th>rating</th>\n",
       "      <th>reviews</th>\n",
       "      <th>host_name</th>\n",
       "      <th>host_id</th>\n",
       "      <th>address</th>\n",
       "      <th>features</th>\n",
       "      <th>amenities</th>\n",
       "      <th>safety_rules</th>\n",
       "      <th>...</th>\n",
       "      <th>price</th>\n",
       "      <th>country</th>\n",
       "      <th>bathrooms</th>\n",
       "      <th>beds</th>\n",
       "      <th>guests</th>\n",
       "      <th>toiles</th>\n",
       "      <th>bedrooms</th>\n",
       "      <th>studios</th>\n",
       "      <th>checkin</th>\n",
       "      <th>checkout</th>\n",
       "    </tr>\n",
       "  </thead>\n",
       "  <tbody>\n",
       "    <tr>\n",
       "      <th>2783</th>\n",
       "      <td>6155961</td>\n",
       "      <td>Nature &amp; horses 4 mountain lovers!</td>\n",
       "      <td>4.88</td>\n",
       "      <td>18</td>\n",
       "      <td>Ewa</td>\n",
       "      <td>8414981.0</td>\n",
       "      <td>Janowice Wielkie, Lower Silesian Voivodeship, ...</td>\n",
       "      <td>16 guests,6 bedrooms,31 beds,3 shared bathrooms</td>\n",
       "      <td>Mountain view,Valley view,Ski-in/Ski-out,Kitch...</td>\n",
       "      <td>󹀁,Airbnb's COVID-19 safety practices apply,󱠃,N...</td>\n",
       "      <td>...</td>\n",
       "      <td>818</td>\n",
       "      <td>Poland</td>\n",
       "      <td>3</td>\n",
       "      <td>31</td>\n",
       "      <td>16</td>\n",
       "      <td>0</td>\n",
       "      <td>6</td>\n",
       "      <td>0</td>\n",
       "      <td>Not Provided</td>\n",
       "      <td>Not Provided</td>\n",
       "    </tr>\n",
       "  </tbody>\n",
       "</table>\n",
       "<p>1 rows × 22 columns</p>\n",
       "</div>"
      ],
      "text/plain": [
       "           id                                name rating reviews host_name  \\\n",
       "2783  6155961  Nature & horses 4 mountain lovers!   4.88      18       Ewa   \n",
       "\n",
       "        host_id                                            address  \\\n",
       "2783  8414981.0  Janowice Wielkie, Lower Silesian Voivodeship, ...   \n",
       "\n",
       "                                             features  \\\n",
       "2783  16 guests,6 bedrooms,31 beds,3 shared bathrooms   \n",
       "\n",
       "                                              amenities  \\\n",
       "2783  Mountain view,Valley view,Ski-in/Ski-out,Kitch...   \n",
       "\n",
       "                                           safety_rules  ... price  country  \\\n",
       "2783  󹀁,Airbnb's COVID-19 safety practices apply,󱠃,N...  ...   818   Poland   \n",
       "\n",
       "      bathrooms beds  guests  toiles  bedrooms  studios       checkin  \\\n",
       "2783          3   31      16       0         6        0  Not Provided   \n",
       "\n",
       "          checkout  \n",
       "2783  Not Provided  \n",
       "\n",
       "[1 rows x 22 columns]"
      ]
     },
     "execution_count": 10,
     "metadata": {},
     "output_type": "execute_result"
    }
   ],
   "source": [
    "# Drop the column Unnamed: 0.\n",
    "\n",
    "df.drop(columns=['Unnamed: 0'],inplace=True)\n",
    "df.sample()"
   ]
  },
  {
   "cell_type": "code",
   "execution_count": 11,
   "id": "b4c90509",
   "metadata": {},
   "outputs": [
    {
     "data": {
      "text/plain": [
       "Index(['id', 'name', 'rating', 'reviews', 'host_name', 'host_id', 'address',\n",
       "       'features', 'amenities', 'safety_rules', 'house_rules', 'img_links',\n",
       "       'price', 'country', 'bathrooms', 'beds', 'guests', 'toilets',\n",
       "       'bedrooms', 'studios', 'checkin', 'checkout'],\n",
       "      dtype='object')"
      ]
     },
     "execution_count": 11,
     "metadata": {},
     "output_type": "execute_result"
    }
   ],
   "source": [
    "# Rename the columns hourse_rules to house_rules and toiles to toilets.\n",
    "\n",
    "df.rename(columns={'hourse_rules':'house_rules','toiles':'toilets'},inplace=True)\n",
    "df.columns"
   ]
  },
  {
   "cell_type": "code",
   "execution_count": 12,
   "id": "751267f4",
   "metadata": {},
   "outputs": [
    {
     "data": {
      "text/plain": [
       "dtype('float64')"
      ]
     },
     "execution_count": 12,
     "metadata": {},
     "output_type": "execute_result"
    }
   ],
   "source": [
    "# Convert the 'price' column from string to float (remove $, commas)\n",
    "df['price'] = df['price'].replace({r'\\$': '', ',': ''}, regex=True).astype(float)\n",
    "df['price'].dtype"
   ]
  },
  {
   "cell_type": "code",
   "execution_count": 13,
   "id": "6c33e49c",
   "metadata": {},
   "outputs": [],
   "source": [
    "# Convert rating to float and check for invalid (non-numeric) values.\n",
    "df['rating'] = pd.to_numeric(df['rating'], errors='coerce')\n"
   ]
  },
  {
   "cell_type": "code",
   "execution_count": 14,
   "id": "8a4492a7",
   "metadata": {},
   "outputs": [],
   "source": [
    "# Fill missing reviews with 0 and convert it to integer.\n",
    "df['rating']=df['rating'].fillna(0).astype(int)"
   ]
  },
  {
   "cell_type": "code",
   "execution_count": 15,
   "id": "989780da",
   "metadata": {},
   "outputs": [
    {
     "data": {
      "text/plain": [
       "array(['Turkey', 'Georgia', 'Vietnam', 'Thailand', 'South Korea', 'India',\n",
       "       'Philippines', 'Japan', 'Lebanon', 'Taiwan', 'Israel', 'Armenia',\n",
       "       'Cyprus', 'Lithuania', 'Slovakia', 'Denmark', 'Germany',\n",
       "       'Indonesia', 'Poland', 'Romania', 'Greece', 'Ukraine', 'Hungary',\n",
       "       'Albania', 'Bulgaria', 'Malaysia', 'Montenegro', 'Slovenia',\n",
       "       'Czechia', 'Sweden', 'Austria', 'Croatia', 'Tanzania', 'Italy',\n",
       "       'Sri Lanka', 'Bosnia & Herzegovina', 'Kenya', 'Serbia',\n",
       "       'Seychelles', 'Finland', 'Norway', 'Iceland', 'Greenland',\n",
       "       'United States', 'Canada', 'Svalbard & Jan Mayen', 'France',\n",
       "       'Australia', 'Morocco', 'Egypt', 'South Africa', 'Spain',\n",
       "       'United Arab Emirates', 'United Kingdom', 'Pakistan', 'Nepal',\n",
       "       'Singapore', 'Cambodia', 'Azerbaijan', 'Estonia', 'Latvia',\n",
       "       'Costa Rica', 'Netherlands', 'Portugal', 'New Zealand', 'Panama',\n",
       "       'Mexico', 'Peru', 'Chile', 'Belize', 'Colombia', 'Switzerland',\n",
       "       'Ireland', 'Bolivia', 'Belgium', 'Brazil', 'Mauritius', 'Fiji',\n",
       "       'Maldives', 'Hong Kong', 'Myanmar', 'Brunei', 'Kyrgyzstan',\n",
       "       'Puerto Rico', 'Uruguay', 'Argentina', 'Bahamas', 'Oman', 'Kuwait',\n",
       "       'Saudi Arabia', 'Kazakhstan', 'Uganda', 'Qatar', 'Jordan',\n",
       "       'Bangladesh', 'Mongolia', 'Uzbekistan', 'Liechtenstein', 'Rwanda',\n",
       "       'Honduras', 'Nicaragua', 'Vanuatu', 'Cayman Islands',\n",
       "       'French Polynesia', 'Jamaica', 'Isle of Man', 'Guadeloupe',\n",
       "       'Madagascar', 'Åland Islands', 'Malta', 'Tunisia', 'Congo', 'Cuba',\n",
       "       'Nigeria', 'Kosovo', 'St Martin', 'Guatemala', 'Senegal',\n",
       "       'Namibia'], dtype=object)"
      ]
     },
     "execution_count": 15,
     "metadata": {},
     "output_type": "execute_result"
    }
   ],
   "source": [
    "# Extract country names and count the number of unique countries.\n",
    "df['country_clean']=df['country'].str.strip()\n",
    "df['country_clean'].unique()\n"
   ]
  },
  {
   "cell_type": "code",
   "execution_count": 16,
   "id": "242b3012",
   "metadata": {},
   "outputs": [
    {
     "data": {
      "text/plain": [
       "119"
      ]
     },
     "execution_count": 16,
     "metadata": {},
     "output_type": "execute_result"
    }
   ],
   "source": [
    "unique_Country=df['country_clean'].nunique()\n",
    "unique_Country"
   ]
  },
  {
   "cell_type": "code",
   "execution_count": 17,
   "id": "14a855d4",
   "metadata": {},
   "outputs": [
    {
     "data": {
      "text/html": [
       "<div>\n",
       "<style scoped>\n",
       "    .dataframe tbody tr th:only-of-type {\n",
       "        vertical-align: middle;\n",
       "    }\n",
       "\n",
       "    .dataframe tbody tr th {\n",
       "        vertical-align: top;\n",
       "    }\n",
       "\n",
       "    .dataframe thead th {\n",
       "        text-align: right;\n",
       "    }\n",
       "</style>\n",
       "<table border=\"1\" class=\"dataframe\">\n",
       "  <thead>\n",
       "    <tr style=\"text-align: right;\">\n",
       "      <th></th>\n",
       "      <th>id</th>\n",
       "      <th>name</th>\n",
       "      <th>rating</th>\n",
       "      <th>reviews</th>\n",
       "      <th>host_name</th>\n",
       "      <th>host_id</th>\n",
       "      <th>address</th>\n",
       "      <th>features</th>\n",
       "      <th>amenities</th>\n",
       "      <th>safety_rules</th>\n",
       "      <th>...</th>\n",
       "      <th>country</th>\n",
       "      <th>bathrooms</th>\n",
       "      <th>beds</th>\n",
       "      <th>guests</th>\n",
       "      <th>toilets</th>\n",
       "      <th>bedrooms</th>\n",
       "      <th>studios</th>\n",
       "      <th>checkin</th>\n",
       "      <th>checkout</th>\n",
       "      <th>country_clean</th>\n",
       "    </tr>\n",
       "  </thead>\n",
       "  <tbody>\n",
       "  </tbody>\n",
       "</table>\n",
       "<p>0 rows × 23 columns</p>\n",
       "</div>"
      ],
      "text/plain": [
       "Empty DataFrame\n",
       "Columns: [id, name, rating, reviews, host_name, host_id, address, features, amenities, safety_rules, house_rules, img_links, price, country, bathrooms, beds, guests, toilets, bedrooms, studios, checkin, checkout, country_clean]\n",
       "Index: []\n",
       "\n",
       "[0 rows x 23 columns]"
      ]
     },
     "execution_count": 17,
     "metadata": {},
     "output_type": "execute_result"
    }
   ],
   "source": [
    "# Check for duplicate listings based on id and host_id.\n",
    "duplicates = df[df.duplicated(subset=['id', 'host_id'])]\n",
    "duplicates\n"
   ]
  },
  {
   "cell_type": "code",
   "execution_count": 18,
   "id": "6b1a4742",
   "metadata": {},
   "outputs": [
    {
     "data": {
      "text/plain": [
       "(12805, 23)"
      ]
     },
     "execution_count": 18,
     "metadata": {},
     "output_type": "execute_result"
    }
   ],
   "source": [
    "# Drop all rows where the address, price, or host_name is missing.\n",
    "df.dropna(subset=['address', 'price', 'host_name'], inplace=True)\n",
    "df.shape"
   ]
  },
  {
   "cell_type": "markdown",
   "id": "5baeaab2",
   "metadata": {},
   "source": [
    "### Descriptive Stats & Exploration"
   ]
  },
  {
   "cell_type": "code",
   "execution_count": 19,
   "id": "61fdfd1e",
   "metadata": {},
   "outputs": [
    {
     "data": {
      "text/plain": [
       "17697.800312377978"
      ]
     },
     "execution_count": 19,
     "metadata": {},
     "output_type": "execute_result"
    }
   ],
   "source": [
    "# What is the average price of all listings?\n",
    "\n",
    "avg_price= df['price'].mean()\n",
    "avg_price"
   ]
  },
  {
   "cell_type": "code",
   "execution_count": 20,
   "id": "791167ca",
   "metadata": {},
   "outputs": [
    {
     "data": {
      "text/plain": [
       "2.8318625536899646"
      ]
     },
     "execution_count": 20,
     "metadata": {},
     "output_type": "execute_result"
    }
   ],
   "source": [
    "# What is the average rating across all listings?\n",
    "\n",
    "average_rating = df['rating'].mean()\n",
    "average_rating"
   ]
  },
  {
   "cell_type": "code",
   "execution_count": 21,
   "id": "1dd6faf6",
   "metadata": {},
   "outputs": [
    {
     "data": {
      "text/plain": [
       "2001"
      ]
     },
     "execution_count": 21,
     "metadata": {},
     "output_type": "execute_result"
    }
   ],
   "source": [
    "# Count the number of listings with a rating above 4.8.\n",
    "high_rated_listings=df[df['rating']>4.8].shape[0]\n",
    "high_rated_listings\n"
   ]
  },
  {
   "cell_type": "code",
   "execution_count": 22,
   "id": "0806e3ef",
   "metadata": {},
   "outputs": [
    {
     "data": {
      "text/html": [
       "<div>\n",
       "<style scoped>\n",
       "    .dataframe tbody tr th:only-of-type {\n",
       "        vertical-align: middle;\n",
       "    }\n",
       "\n",
       "    .dataframe tbody tr th {\n",
       "        vertical-align: top;\n",
       "    }\n",
       "\n",
       "    .dataframe thead th {\n",
       "        text-align: right;\n",
       "    }\n",
       "</style>\n",
       "<table border=\"1\" class=\"dataframe\">\n",
       "  <thead>\n",
       "    <tr style=\"text-align: right;\">\n",
       "      <th></th>\n",
       "      <th>id</th>\n",
       "      <th>name</th>\n",
       "      <th>rating</th>\n",
       "      <th>reviews</th>\n",
       "      <th>host_name</th>\n",
       "      <th>host_id</th>\n",
       "      <th>address</th>\n",
       "      <th>features</th>\n",
       "      <th>amenities</th>\n",
       "      <th>safety_rules</th>\n",
       "      <th>...</th>\n",
       "      <th>country</th>\n",
       "      <th>bathrooms</th>\n",
       "      <th>beds</th>\n",
       "      <th>guests</th>\n",
       "      <th>toilets</th>\n",
       "      <th>bedrooms</th>\n",
       "      <th>studios</th>\n",
       "      <th>checkin</th>\n",
       "      <th>checkout</th>\n",
       "      <th>country_clean</th>\n",
       "    </tr>\n",
       "  </thead>\n",
       "  <tbody>\n",
       "    <tr>\n",
       "      <th>4488</th>\n",
       "      <td>547559802034179497</td>\n",
       "      <td>38 MT 5 CABINS DELUXE MOTOR YACHT</td>\n",
       "      <td>0</td>\n",
       "      <td>0</td>\n",
       "      <td>Important Yachting</td>\n",
       "      <td>374411260.0</td>\n",
       "      <td>Bodrum, Muğla, Turkey</td>\n",
       "      <td>10 guests,5 bedrooms,7 beds,5 bathrooms</td>\n",
       "      <td>Beach access,Kitchen,Wifi,Dedicated workspace,...</td>\n",
       "      <td>󹀁,Airbnb's COVID-19 safety practices apply,Car...</td>\n",
       "      <td>...</td>\n",
       "      <td>Turkey</td>\n",
       "      <td>5</td>\n",
       "      <td>7</td>\n",
       "      <td>10</td>\n",
       "      <td>0</td>\n",
       "      <td>5</td>\n",
       "      <td>0</td>\n",
       "      <td>After 3 00 pm</td>\n",
       "      <td>10 00 am</td>\n",
       "      <td>Turkey</td>\n",
       "    </tr>\n",
       "    <tr>\n",
       "      <th>4844</th>\n",
       "      <td>44180697</td>\n",
       "      <td>Romantic hideaway in the middle of the Mols Mo...</td>\n",
       "      <td>4</td>\n",
       "      <td>45</td>\n",
       "      <td>Bjørn</td>\n",
       "      <td>15528264.0</td>\n",
       "      <td>Knebel, Denmark</td>\n",
       "      <td>2 guests,1 bedroom,2 beds,Toilet with sink</td>\n",
       "      <td>Kitchen,Free parking on premises,Refrigerator,...</td>\n",
       "      <td>󹀁,Airbnb's COVID-19 safety practices apply,󱠆,C...</td>\n",
       "      <td>...</td>\n",
       "      <td>Denmark</td>\n",
       "      <td>0</td>\n",
       "      <td>2</td>\n",
       "      <td>2</td>\n",
       "      <td>1</td>\n",
       "      <td>1</td>\n",
       "      <td>0</td>\n",
       "      <td>After 1 00 pm</td>\n",
       "      <td>11 00 am</td>\n",
       "      <td>Denmark</td>\n",
       "    </tr>\n",
       "    <tr>\n",
       "      <th>11076</th>\n",
       "      <td>594172414809502943</td>\n",
       "      <td>Dimora Torricella</td>\n",
       "      <td>0</td>\n",
       "      <td>0</td>\n",
       "      <td>Olivers</td>\n",
       "      <td>445147605.0</td>\n",
       "      <td>Bottai, Toscana, Italy</td>\n",
       "      <td>16 guests,19 bedrooms,18.5 bathrooms</td>\n",
       "      <td>Kitchen,Wifi,Private indoor pool,TV,Washing ma...</td>\n",
       "      <td>󹀁,Airbnb's COVID-19 safety practices apply,󱠆,C...</td>\n",
       "      <td>...</td>\n",
       "      <td>Italy</td>\n",
       "      <td>18</td>\n",
       "      <td>0</td>\n",
       "      <td>16</td>\n",
       "      <td>0</td>\n",
       "      <td>19</td>\n",
       "      <td>0</td>\n",
       "      <td>3 00 pm - 8 00 pm</td>\n",
       "      <td>11 00 am</td>\n",
       "      <td>Italy</td>\n",
       "    </tr>\n",
       "    <tr>\n",
       "      <th>10827</th>\n",
       "      <td>597123075031935466</td>\n",
       "      <td>Premier Wedding &amp; Event Space</td>\n",
       "      <td>0</td>\n",
       "      <td>0</td>\n",
       "      <td>Tommy</td>\n",
       "      <td>64234578.0</td>\n",
       "      <td>Bermuda Dunes, California, United States</td>\n",
       "      <td>16 guests,1 bedroom,1 bed,2 bathrooms</td>\n",
       "      <td>Kitchen,Wifi,Free parking on premises,Private ...</td>\n",
       "      <td>󹀁,Airbnb's COVID-19 safety practices apply,󱠆,C...</td>\n",
       "      <td>...</td>\n",
       "      <td>United States</td>\n",
       "      <td>2</td>\n",
       "      <td>1</td>\n",
       "      <td>16</td>\n",
       "      <td>0</td>\n",
       "      <td>1</td>\n",
       "      <td>0</td>\n",
       "      <td>After 3 00 pm</td>\n",
       "      <td>Not Provided</td>\n",
       "      <td>United States</td>\n",
       "    </tr>\n",
       "    <tr>\n",
       "      <th>4529</th>\n",
       "      <td>596652722564147148</td>\n",
       "      <td>LUXURY SUPERYACHT 85FT</td>\n",
       "      <td>0</td>\n",
       "      <td>0</td>\n",
       "      <td>Alyzeea</td>\n",
       "      <td>299460936.0</td>\n",
       "      <td>Eden Island, Seychelles, Seychelles</td>\n",
       "      <td>8 guests,4 bedrooms,6 beds,4 bathrooms</td>\n",
       "      <td>Kitchen,Wifi,Dedicated workspace,Hot tub,TV,Ai...</td>\n",
       "      <td>󹀁,Airbnb's COVID-19 safety practices apply,󱠆,C...</td>\n",
       "      <td>...</td>\n",
       "      <td>Seychelles</td>\n",
       "      <td>4</td>\n",
       "      <td>6</td>\n",
       "      <td>8</td>\n",
       "      <td>0</td>\n",
       "      <td>4</td>\n",
       "      <td>0</td>\n",
       "      <td>After 12 00 pm</td>\n",
       "      <td>10 00 am</td>\n",
       "      <td>Seychelles</td>\n",
       "    </tr>\n",
       "    <tr>\n",
       "      <th>10928</th>\n",
       "      <td>30951471</td>\n",
       "      <td>Casa Serena - Home of Terry Gou - Entire Chateau</td>\n",
       "      <td>0</td>\n",
       "      <td>0</td>\n",
       "      <td>Chateau</td>\n",
       "      <td>231279133.0</td>\n",
       "      <td>Vidice, Středočeský kraj, Czechia</td>\n",
       "      <td>16 guests,12 bedrooms,12 beds,12 bathrooms</td>\n",
       "      <td>Kitchen,Wifi,Free parking on premises,Pool,Hot...</td>\n",
       "      <td>󹀁,Airbnb's COVID-19 safety practices apply,Car...</td>\n",
       "      <td>...</td>\n",
       "      <td>Czechia</td>\n",
       "      <td>12</td>\n",
       "      <td>12</td>\n",
       "      <td>16</td>\n",
       "      <td>0</td>\n",
       "      <td>12</td>\n",
       "      <td>0</td>\n",
       "      <td>12 00 pm - 12 00 am</td>\n",
       "      <td>Not Provided</td>\n",
       "      <td>Czechia</td>\n",
       "    </tr>\n",
       "    <tr>\n",
       "      <th>11122</th>\n",
       "      <td>3429837</td>\n",
       "      <td>Villa Machiavelli</td>\n",
       "      <td>0</td>\n",
       "      <td>0</td>\n",
       "      <td>Villa Mangiacane</td>\n",
       "      <td>17286321.0</td>\n",
       "      <td>San Casciano in Val di pesa, Toscana, Italy</td>\n",
       "      <td>16 guests,10 bedrooms,16 beds,8 bathrooms</td>\n",
       "      <td>Kitchen,Wifi,Free parking on premises,Pool,TV,...</td>\n",
       "      <td>󹀁,Airbnb's COVID-19 safety practices apply,󱠆,C...</td>\n",
       "      <td>...</td>\n",
       "      <td>Italy</td>\n",
       "      <td>8</td>\n",
       "      <td>16</td>\n",
       "      <td>16</td>\n",
       "      <td>0</td>\n",
       "      <td>10</td>\n",
       "      <td>0</td>\n",
       "      <td>3 00 pm - 11 00 pm</td>\n",
       "      <td>Not Provided</td>\n",
       "      <td>Italy</td>\n",
       "    </tr>\n",
       "    <tr>\n",
       "      <th>4585</th>\n",
       "      <td>53710161</td>\n",
       "      <td>Botanica Villa by Luxury Explorers Collection</td>\n",
       "      <td>0</td>\n",
       "      <td>0</td>\n",
       "      <td>Luxury Explorers Collection</td>\n",
       "      <td>189959685.0</td>\n",
       "      <td>Dubai, United Arab Emirates</td>\n",
       "      <td>13 guests,8 bedrooms,1 bed,9 bathrooms</td>\n",
       "      <td>Kitchen,Wifi,Dedicated workspace,Free parking ...</td>\n",
       "      <td>󹀁,Airbnb's COVID-19 safety practices apply,󱠆,C...</td>\n",
       "      <td>...</td>\n",
       "      <td>United Arab Emirates</td>\n",
       "      <td>9</td>\n",
       "      <td>1</td>\n",
       "      <td>13</td>\n",
       "      <td>0</td>\n",
       "      <td>8</td>\n",
       "      <td>0</td>\n",
       "      <td>After 3 00 pm</td>\n",
       "      <td>Not Provided</td>\n",
       "      <td>United Arab Emirates</td>\n",
       "    </tr>\n",
       "    <tr>\n",
       "      <th>7078</th>\n",
       "      <td>43512940</td>\n",
       "      <td>Nafsika Estate</td>\n",
       "      <td>0</td>\n",
       "      <td>0</td>\n",
       "      <td>Reservations</td>\n",
       "      <td>47748353.0</td>\n",
       "      <td>Megalochori, Greece</td>\n",
       "      <td>10 guests,5 bedrooms,6 beds,5 bathrooms</td>\n",
       "      <td>Wifi,Private pool,TV,Air conditioning,Hair dry...</td>\n",
       "      <td>󹀁,Airbnb's COVID-19 safety practices apply,󱠆,C...</td>\n",
       "      <td>...</td>\n",
       "      <td>Greece</td>\n",
       "      <td>5</td>\n",
       "      <td>6</td>\n",
       "      <td>10</td>\n",
       "      <td>0</td>\n",
       "      <td>5</td>\n",
       "      <td>0</td>\n",
       "      <td>Not Provided</td>\n",
       "      <td>11 00 am</td>\n",
       "      <td>Greece</td>\n",
       "    </tr>\n",
       "    <tr>\n",
       "      <th>5907</th>\n",
       "      <td>38200470</td>\n",
       "      <td>Eden Villa with adjoining bedrooms &amp; private p...</td>\n",
       "      <td>0</td>\n",
       "      <td>0</td>\n",
       "      <td>Eden Villas</td>\n",
       "      <td>188288153.0</td>\n",
       "      <td>Imerovigli, Greece</td>\n",
       "      <td>16 guests,7 bedrooms,7 beds,7 bathrooms</td>\n",
       "      <td>Kitchen,Wifi,Pool,TV,Air conditioning,Hair dry...</td>\n",
       "      <td>󹀁,Airbnb's COVID-19 safety practices apply,󱠆,C...</td>\n",
       "      <td>...</td>\n",
       "      <td>Greece</td>\n",
       "      <td>7</td>\n",
       "      <td>7</td>\n",
       "      <td>16</td>\n",
       "      <td>0</td>\n",
       "      <td>7</td>\n",
       "      <td>0</td>\n",
       "      <td>After 3 00 pm</td>\n",
       "      <td>Not Provided</td>\n",
       "      <td>Greece</td>\n",
       "    </tr>\n",
       "  </tbody>\n",
       "</table>\n",
       "<p>10 rows × 23 columns</p>\n",
       "</div>"
      ],
      "text/plain": [
       "                       id                                               name  \\\n",
       "4488   547559802034179497                  38 MT 5 CABINS DELUXE MOTOR YACHT   \n",
       "4844             44180697  Romantic hideaway in the middle of the Mols Mo...   \n",
       "11076  594172414809502943                                  Dimora Torricella   \n",
       "10827  597123075031935466                      Premier Wedding & Event Space   \n",
       "4529   596652722564147148                             LUXURY SUPERYACHT 85FT   \n",
       "10928            30951471   Casa Serena - Home of Terry Gou - Entire Chateau   \n",
       "11122             3429837                                  Villa Machiavelli   \n",
       "4585             53710161      Botanica Villa by Luxury Explorers Collection   \n",
       "7078             43512940                                     Nafsika Estate   \n",
       "5907             38200470  Eden Villa with adjoining bedrooms & private p...   \n",
       "\n",
       "       rating reviews                    host_name      host_id  \\\n",
       "4488        0       0           Important Yachting  374411260.0   \n",
       "4844        4      45                        Bjørn   15528264.0   \n",
       "11076       0       0                      Olivers  445147605.0   \n",
       "10827       0       0                        Tommy   64234578.0   \n",
       "4529        0       0                      Alyzeea  299460936.0   \n",
       "10928       0       0                      Chateau  231279133.0   \n",
       "11122       0       0             Villa Mangiacane   17286321.0   \n",
       "4585        0       0  Luxury Explorers Collection  189959685.0   \n",
       "7078        0       0                 Reservations   47748353.0   \n",
       "5907        0       0                  Eden Villas  188288153.0   \n",
       "\n",
       "                                           address  \\\n",
       "4488                         Bodrum, Muğla, Turkey   \n",
       "4844                               Knebel, Denmark   \n",
       "11076                       Bottai, Toscana, Italy   \n",
       "10827     Bermuda Dunes, California, United States   \n",
       "4529           Eden Island, Seychelles, Seychelles   \n",
       "10928            Vidice, Středočeský kraj, Czechia   \n",
       "11122  San Casciano in Val di pesa, Toscana, Italy   \n",
       "4585                   Dubai, United Arab Emirates   \n",
       "7078                           Megalochori, Greece   \n",
       "5907                            Imerovigli, Greece   \n",
       "\n",
       "                                         features  \\\n",
       "4488      10 guests,5 bedrooms,7 beds,5 bathrooms   \n",
       "4844   2 guests,1 bedroom,2 beds,Toilet with sink   \n",
       "11076        16 guests,19 bedrooms,18.5 bathrooms   \n",
       "10827       16 guests,1 bedroom,1 bed,2 bathrooms   \n",
       "4529       8 guests,4 bedrooms,6 beds,4 bathrooms   \n",
       "10928  16 guests,12 bedrooms,12 beds,12 bathrooms   \n",
       "11122   16 guests,10 bedrooms,16 beds,8 bathrooms   \n",
       "4585       13 guests,8 bedrooms,1 bed,9 bathrooms   \n",
       "7078      10 guests,5 bedrooms,6 beds,5 bathrooms   \n",
       "5907      16 guests,7 bedrooms,7 beds,7 bathrooms   \n",
       "\n",
       "                                               amenities  \\\n",
       "4488   Beach access,Kitchen,Wifi,Dedicated workspace,...   \n",
       "4844   Kitchen,Free parking on premises,Refrigerator,...   \n",
       "11076  Kitchen,Wifi,Private indoor pool,TV,Washing ma...   \n",
       "10827  Kitchen,Wifi,Free parking on premises,Private ...   \n",
       "4529   Kitchen,Wifi,Dedicated workspace,Hot tub,TV,Ai...   \n",
       "10928  Kitchen,Wifi,Free parking on premises,Pool,Hot...   \n",
       "11122  Kitchen,Wifi,Free parking on premises,Pool,TV,...   \n",
       "4585   Kitchen,Wifi,Dedicated workspace,Free parking ...   \n",
       "7078   Wifi,Private pool,TV,Air conditioning,Hair dry...   \n",
       "5907   Kitchen,Wifi,Pool,TV,Air conditioning,Hair dry...   \n",
       "\n",
       "                                            safety_rules  ...  \\\n",
       "4488   󹀁,Airbnb's COVID-19 safety practices apply,Car...  ...   \n",
       "4844   󹀁,Airbnb's COVID-19 safety practices apply,󱠆,C...  ...   \n",
       "11076  󹀁,Airbnb's COVID-19 safety practices apply,󱠆,C...  ...   \n",
       "10827  󹀁,Airbnb's COVID-19 safety practices apply,󱠆,C...  ...   \n",
       "4529   󹀁,Airbnb's COVID-19 safety practices apply,󱠆,C...  ...   \n",
       "10928  󹀁,Airbnb's COVID-19 safety practices apply,Car...  ...   \n",
       "11122  󹀁,Airbnb's COVID-19 safety practices apply,󱠆,C...  ...   \n",
       "4585   󹀁,Airbnb's COVID-19 safety practices apply,󱠆,C...  ...   \n",
       "7078   󹀁,Airbnb's COVID-19 safety practices apply,󱠆,C...  ...   \n",
       "5907   󹀁,Airbnb's COVID-19 safety practices apply,󱠆,C...  ...   \n",
       "\n",
       "                     country bathrooms  beds guests  toilets  bedrooms  \\\n",
       "4488                  Turkey         5     7     10        0         5   \n",
       "4844                 Denmark         0     2      2        1         1   \n",
       "11076                  Italy        18     0     16        0        19   \n",
       "10827          United States         2     1     16        0         1   \n",
       "4529              Seychelles         4     6      8        0         4   \n",
       "10928                Czechia        12    12     16        0        12   \n",
       "11122                  Italy         8    16     16        0        10   \n",
       "4585    United Arab Emirates         9     1     13        0         8   \n",
       "7078                  Greece         5     6     10        0         5   \n",
       "5907                  Greece         7     7     16        0         7   \n",
       "\n",
       "       studios               checkin      checkout         country_clean  \n",
       "4488         0         After 3 00 pm      10 00 am                Turkey  \n",
       "4844         0         After 1 00 pm      11 00 am               Denmark  \n",
       "11076        0     3 00 pm - 8 00 pm      11 00 am                 Italy  \n",
       "10827        0         After 3 00 pm  Not Provided         United States  \n",
       "4529         0        After 12 00 pm      10 00 am            Seychelles  \n",
       "10928        0   12 00 pm - 12 00 am  Not Provided               Czechia  \n",
       "11122        0    3 00 pm - 11 00 pm  Not Provided                 Italy  \n",
       "4585         0         After 3 00 pm  Not Provided  United Arab Emirates  \n",
       "7078         0          Not Provided      11 00 am                Greece  \n",
       "5907         0         After 3 00 pm  Not Provided                Greece  \n",
       "\n",
       "[10 rows x 23 columns]"
      ]
     },
     "execution_count": 22,
     "metadata": {},
     "output_type": "execute_result"
    }
   ],
   "source": [
    "# List the top 10 most expensive listings.\n",
    "top_10_expensive = df.nlargest(10, 'price')\n",
    "top_10_expensive\n"
   ]
  },
  {
   "cell_type": "code",
   "execution_count": 23,
   "id": "353f83e0",
   "metadata": {},
   "outputs": [
    {
     "data": {
      "text/html": [
       "<div>\n",
       "<style scoped>\n",
       "    .dataframe tbody tr th:only-of-type {\n",
       "        vertical-align: middle;\n",
       "    }\n",
       "\n",
       "    .dataframe tbody tr th {\n",
       "        vertical-align: top;\n",
       "    }\n",
       "\n",
       "    .dataframe thead th {\n",
       "        text-align: right;\n",
       "    }\n",
       "</style>\n",
       "<table border=\"1\" class=\"dataframe\">\n",
       "  <thead>\n",
       "    <tr style=\"text-align: right;\">\n",
       "      <th></th>\n",
       "      <th>id</th>\n",
       "      <th>name</th>\n",
       "      <th>rating</th>\n",
       "      <th>reviews</th>\n",
       "      <th>host_name</th>\n",
       "      <th>host_id</th>\n",
       "      <th>address</th>\n",
       "      <th>features</th>\n",
       "      <th>amenities</th>\n",
       "      <th>safety_rules</th>\n",
       "      <th>...</th>\n",
       "      <th>country</th>\n",
       "      <th>bathrooms</th>\n",
       "      <th>beds</th>\n",
       "      <th>guests</th>\n",
       "      <th>toilets</th>\n",
       "      <th>bedrooms</th>\n",
       "      <th>studios</th>\n",
       "      <th>checkin</th>\n",
       "      <th>checkout</th>\n",
       "      <th>country_clean</th>\n",
       "    </tr>\n",
       "  </thead>\n",
       "  <tbody>\n",
       "    <tr>\n",
       "      <th>4488</th>\n",
       "      <td>547559802034179497</td>\n",
       "      <td>38 MT 5 CABINS DELUXE MOTOR YACHT</td>\n",
       "      <td>0</td>\n",
       "      <td>0</td>\n",
       "      <td>Important Yachting</td>\n",
       "      <td>374411260.0</td>\n",
       "      <td>Bodrum, Muğla, Turkey</td>\n",
       "      <td>10 guests,5 bedrooms,7 beds,5 bathrooms</td>\n",
       "      <td>Beach access,Kitchen,Wifi,Dedicated workspace,...</td>\n",
       "      <td>󹀁,Airbnb's COVID-19 safety practices apply,Car...</td>\n",
       "      <td>...</td>\n",
       "      <td>Turkey</td>\n",
       "      <td>5</td>\n",
       "      <td>7</td>\n",
       "      <td>10</td>\n",
       "      <td>0</td>\n",
       "      <td>5</td>\n",
       "      <td>0</td>\n",
       "      <td>After 3 00 pm</td>\n",
       "      <td>10 00 am</td>\n",
       "      <td>Turkey</td>\n",
       "    </tr>\n",
       "    <tr>\n",
       "      <th>4844</th>\n",
       "      <td>44180697</td>\n",
       "      <td>Romantic hideaway in the middle of the Mols Mo...</td>\n",
       "      <td>4</td>\n",
       "      <td>45</td>\n",
       "      <td>Bjørn</td>\n",
       "      <td>15528264.0</td>\n",
       "      <td>Knebel, Denmark</td>\n",
       "      <td>2 guests,1 bedroom,2 beds,Toilet with sink</td>\n",
       "      <td>Kitchen,Free parking on premises,Refrigerator,...</td>\n",
       "      <td>󹀁,Airbnb's COVID-19 safety practices apply,󱠆,C...</td>\n",
       "      <td>...</td>\n",
       "      <td>Denmark</td>\n",
       "      <td>0</td>\n",
       "      <td>2</td>\n",
       "      <td>2</td>\n",
       "      <td>1</td>\n",
       "      <td>1</td>\n",
       "      <td>0</td>\n",
       "      <td>After 1 00 pm</td>\n",
       "      <td>11 00 am</td>\n",
       "      <td>Denmark</td>\n",
       "    </tr>\n",
       "    <tr>\n",
       "      <th>11076</th>\n",
       "      <td>594172414809502943</td>\n",
       "      <td>Dimora Torricella</td>\n",
       "      <td>0</td>\n",
       "      <td>0</td>\n",
       "      <td>Olivers</td>\n",
       "      <td>445147605.0</td>\n",
       "      <td>Bottai, Toscana, Italy</td>\n",
       "      <td>16 guests,19 bedrooms,18.5 bathrooms</td>\n",
       "      <td>Kitchen,Wifi,Private indoor pool,TV,Washing ma...</td>\n",
       "      <td>󹀁,Airbnb's COVID-19 safety practices apply,󱠆,C...</td>\n",
       "      <td>...</td>\n",
       "      <td>Italy</td>\n",
       "      <td>18</td>\n",
       "      <td>0</td>\n",
       "      <td>16</td>\n",
       "      <td>0</td>\n",
       "      <td>19</td>\n",
       "      <td>0</td>\n",
       "      <td>3 00 pm - 8 00 pm</td>\n",
       "      <td>11 00 am</td>\n",
       "      <td>Italy</td>\n",
       "    </tr>\n",
       "    <tr>\n",
       "      <th>10827</th>\n",
       "      <td>597123075031935466</td>\n",
       "      <td>Premier Wedding &amp; Event Space</td>\n",
       "      <td>0</td>\n",
       "      <td>0</td>\n",
       "      <td>Tommy</td>\n",
       "      <td>64234578.0</td>\n",
       "      <td>Bermuda Dunes, California, United States</td>\n",
       "      <td>16 guests,1 bedroom,1 bed,2 bathrooms</td>\n",
       "      <td>Kitchen,Wifi,Free parking on premises,Private ...</td>\n",
       "      <td>󹀁,Airbnb's COVID-19 safety practices apply,󱠆,C...</td>\n",
       "      <td>...</td>\n",
       "      <td>United States</td>\n",
       "      <td>2</td>\n",
       "      <td>1</td>\n",
       "      <td>16</td>\n",
       "      <td>0</td>\n",
       "      <td>1</td>\n",
       "      <td>0</td>\n",
       "      <td>After 3 00 pm</td>\n",
       "      <td>Not Provided</td>\n",
       "      <td>United States</td>\n",
       "    </tr>\n",
       "    <tr>\n",
       "      <th>4529</th>\n",
       "      <td>596652722564147148</td>\n",
       "      <td>LUXURY SUPERYACHT 85FT</td>\n",
       "      <td>0</td>\n",
       "      <td>0</td>\n",
       "      <td>Alyzeea</td>\n",
       "      <td>299460936.0</td>\n",
       "      <td>Eden Island, Seychelles, Seychelles</td>\n",
       "      <td>8 guests,4 bedrooms,6 beds,4 bathrooms</td>\n",
       "      <td>Kitchen,Wifi,Dedicated workspace,Hot tub,TV,Ai...</td>\n",
       "      <td>󹀁,Airbnb's COVID-19 safety practices apply,󱠆,C...</td>\n",
       "      <td>...</td>\n",
       "      <td>Seychelles</td>\n",
       "      <td>4</td>\n",
       "      <td>6</td>\n",
       "      <td>8</td>\n",
       "      <td>0</td>\n",
       "      <td>4</td>\n",
       "      <td>0</td>\n",
       "      <td>After 12 00 pm</td>\n",
       "      <td>10 00 am</td>\n",
       "      <td>Seychelles</td>\n",
       "    </tr>\n",
       "    <tr>\n",
       "      <th>10928</th>\n",
       "      <td>30951471</td>\n",
       "      <td>Casa Serena - Home of Terry Gou - Entire Chateau</td>\n",
       "      <td>0</td>\n",
       "      <td>0</td>\n",
       "      <td>Chateau</td>\n",
       "      <td>231279133.0</td>\n",
       "      <td>Vidice, Středočeský kraj, Czechia</td>\n",
       "      <td>16 guests,12 bedrooms,12 beds,12 bathrooms</td>\n",
       "      <td>Kitchen,Wifi,Free parking on premises,Pool,Hot...</td>\n",
       "      <td>󹀁,Airbnb's COVID-19 safety practices apply,Car...</td>\n",
       "      <td>...</td>\n",
       "      <td>Czechia</td>\n",
       "      <td>12</td>\n",
       "      <td>12</td>\n",
       "      <td>16</td>\n",
       "      <td>0</td>\n",
       "      <td>12</td>\n",
       "      <td>0</td>\n",
       "      <td>12 00 pm - 12 00 am</td>\n",
       "      <td>Not Provided</td>\n",
       "      <td>Czechia</td>\n",
       "    </tr>\n",
       "    <tr>\n",
       "      <th>11122</th>\n",
       "      <td>3429837</td>\n",
       "      <td>Villa Machiavelli</td>\n",
       "      <td>0</td>\n",
       "      <td>0</td>\n",
       "      <td>Villa Mangiacane</td>\n",
       "      <td>17286321.0</td>\n",
       "      <td>San Casciano in Val di pesa, Toscana, Italy</td>\n",
       "      <td>16 guests,10 bedrooms,16 beds,8 bathrooms</td>\n",
       "      <td>Kitchen,Wifi,Free parking on premises,Pool,TV,...</td>\n",
       "      <td>󹀁,Airbnb's COVID-19 safety practices apply,󱠆,C...</td>\n",
       "      <td>...</td>\n",
       "      <td>Italy</td>\n",
       "      <td>8</td>\n",
       "      <td>16</td>\n",
       "      <td>16</td>\n",
       "      <td>0</td>\n",
       "      <td>10</td>\n",
       "      <td>0</td>\n",
       "      <td>3 00 pm - 11 00 pm</td>\n",
       "      <td>Not Provided</td>\n",
       "      <td>Italy</td>\n",
       "    </tr>\n",
       "    <tr>\n",
       "      <th>4585</th>\n",
       "      <td>53710161</td>\n",
       "      <td>Botanica Villa by Luxury Explorers Collection</td>\n",
       "      <td>0</td>\n",
       "      <td>0</td>\n",
       "      <td>Luxury Explorers Collection</td>\n",
       "      <td>189959685.0</td>\n",
       "      <td>Dubai, United Arab Emirates</td>\n",
       "      <td>13 guests,8 bedrooms,1 bed,9 bathrooms</td>\n",
       "      <td>Kitchen,Wifi,Dedicated workspace,Free parking ...</td>\n",
       "      <td>󹀁,Airbnb's COVID-19 safety practices apply,󱠆,C...</td>\n",
       "      <td>...</td>\n",
       "      <td>United Arab Emirates</td>\n",
       "      <td>9</td>\n",
       "      <td>1</td>\n",
       "      <td>13</td>\n",
       "      <td>0</td>\n",
       "      <td>8</td>\n",
       "      <td>0</td>\n",
       "      <td>After 3 00 pm</td>\n",
       "      <td>Not Provided</td>\n",
       "      <td>United Arab Emirates</td>\n",
       "    </tr>\n",
       "    <tr>\n",
       "      <th>7078</th>\n",
       "      <td>43512940</td>\n",
       "      <td>Nafsika Estate</td>\n",
       "      <td>0</td>\n",
       "      <td>0</td>\n",
       "      <td>Reservations</td>\n",
       "      <td>47748353.0</td>\n",
       "      <td>Megalochori, Greece</td>\n",
       "      <td>10 guests,5 bedrooms,6 beds,5 bathrooms</td>\n",
       "      <td>Wifi,Private pool,TV,Air conditioning,Hair dry...</td>\n",
       "      <td>󹀁,Airbnb's COVID-19 safety practices apply,󱠆,C...</td>\n",
       "      <td>...</td>\n",
       "      <td>Greece</td>\n",
       "      <td>5</td>\n",
       "      <td>6</td>\n",
       "      <td>10</td>\n",
       "      <td>0</td>\n",
       "      <td>5</td>\n",
       "      <td>0</td>\n",
       "      <td>Not Provided</td>\n",
       "      <td>11 00 am</td>\n",
       "      <td>Greece</td>\n",
       "    </tr>\n",
       "    <tr>\n",
       "      <th>5907</th>\n",
       "      <td>38200470</td>\n",
       "      <td>Eden Villa with adjoining bedrooms &amp; private p...</td>\n",
       "      <td>0</td>\n",
       "      <td>0</td>\n",
       "      <td>Eden Villas</td>\n",
       "      <td>188288153.0</td>\n",
       "      <td>Imerovigli, Greece</td>\n",
       "      <td>16 guests,7 bedrooms,7 beds,7 bathrooms</td>\n",
       "      <td>Kitchen,Wifi,Pool,TV,Air conditioning,Hair dry...</td>\n",
       "      <td>󹀁,Airbnb's COVID-19 safety practices apply,󱠆,C...</td>\n",
       "      <td>...</td>\n",
       "      <td>Greece</td>\n",
       "      <td>7</td>\n",
       "      <td>7</td>\n",
       "      <td>16</td>\n",
       "      <td>0</td>\n",
       "      <td>7</td>\n",
       "      <td>0</td>\n",
       "      <td>After 3 00 pm</td>\n",
       "      <td>Not Provided</td>\n",
       "      <td>Greece</td>\n",
       "    </tr>\n",
       "  </tbody>\n",
       "</table>\n",
       "<p>10 rows × 23 columns</p>\n",
       "</div>"
      ],
      "text/plain": [
       "                       id                                               name  \\\n",
       "4488   547559802034179497                  38 MT 5 CABINS DELUXE MOTOR YACHT   \n",
       "4844             44180697  Romantic hideaway in the middle of the Mols Mo...   \n",
       "11076  594172414809502943                                  Dimora Torricella   \n",
       "10827  597123075031935466                      Premier Wedding & Event Space   \n",
       "4529   596652722564147148                             LUXURY SUPERYACHT 85FT   \n",
       "10928            30951471   Casa Serena - Home of Terry Gou - Entire Chateau   \n",
       "11122             3429837                                  Villa Machiavelli   \n",
       "4585             53710161      Botanica Villa by Luxury Explorers Collection   \n",
       "7078             43512940                                     Nafsika Estate   \n",
       "5907             38200470  Eden Villa with adjoining bedrooms & private p...   \n",
       "\n",
       "       rating reviews                    host_name      host_id  \\\n",
       "4488        0       0           Important Yachting  374411260.0   \n",
       "4844        4      45                        Bjørn   15528264.0   \n",
       "11076       0       0                      Olivers  445147605.0   \n",
       "10827       0       0                        Tommy   64234578.0   \n",
       "4529        0       0                      Alyzeea  299460936.0   \n",
       "10928       0       0                      Chateau  231279133.0   \n",
       "11122       0       0             Villa Mangiacane   17286321.0   \n",
       "4585        0       0  Luxury Explorers Collection  189959685.0   \n",
       "7078        0       0                 Reservations   47748353.0   \n",
       "5907        0       0                  Eden Villas  188288153.0   \n",
       "\n",
       "                                           address  \\\n",
       "4488                         Bodrum, Muğla, Turkey   \n",
       "4844                               Knebel, Denmark   \n",
       "11076                       Bottai, Toscana, Italy   \n",
       "10827     Bermuda Dunes, California, United States   \n",
       "4529           Eden Island, Seychelles, Seychelles   \n",
       "10928            Vidice, Středočeský kraj, Czechia   \n",
       "11122  San Casciano in Val di pesa, Toscana, Italy   \n",
       "4585                   Dubai, United Arab Emirates   \n",
       "7078                           Megalochori, Greece   \n",
       "5907                            Imerovigli, Greece   \n",
       "\n",
       "                                         features  \\\n",
       "4488      10 guests,5 bedrooms,7 beds,5 bathrooms   \n",
       "4844   2 guests,1 bedroom,2 beds,Toilet with sink   \n",
       "11076        16 guests,19 bedrooms,18.5 bathrooms   \n",
       "10827       16 guests,1 bedroom,1 bed,2 bathrooms   \n",
       "4529       8 guests,4 bedrooms,6 beds,4 bathrooms   \n",
       "10928  16 guests,12 bedrooms,12 beds,12 bathrooms   \n",
       "11122   16 guests,10 bedrooms,16 beds,8 bathrooms   \n",
       "4585       13 guests,8 bedrooms,1 bed,9 bathrooms   \n",
       "7078      10 guests,5 bedrooms,6 beds,5 bathrooms   \n",
       "5907      16 guests,7 bedrooms,7 beds,7 bathrooms   \n",
       "\n",
       "                                               amenities  \\\n",
       "4488   Beach access,Kitchen,Wifi,Dedicated workspace,...   \n",
       "4844   Kitchen,Free parking on premises,Refrigerator,...   \n",
       "11076  Kitchen,Wifi,Private indoor pool,TV,Washing ma...   \n",
       "10827  Kitchen,Wifi,Free parking on premises,Private ...   \n",
       "4529   Kitchen,Wifi,Dedicated workspace,Hot tub,TV,Ai...   \n",
       "10928  Kitchen,Wifi,Free parking on premises,Pool,Hot...   \n",
       "11122  Kitchen,Wifi,Free parking on premises,Pool,TV,...   \n",
       "4585   Kitchen,Wifi,Dedicated workspace,Free parking ...   \n",
       "7078   Wifi,Private pool,TV,Air conditioning,Hair dry...   \n",
       "5907   Kitchen,Wifi,Pool,TV,Air conditioning,Hair dry...   \n",
       "\n",
       "                                            safety_rules  ...  \\\n",
       "4488   󹀁,Airbnb's COVID-19 safety practices apply,Car...  ...   \n",
       "4844   󹀁,Airbnb's COVID-19 safety practices apply,󱠆,C...  ...   \n",
       "11076  󹀁,Airbnb's COVID-19 safety practices apply,󱠆,C...  ...   \n",
       "10827  󹀁,Airbnb's COVID-19 safety practices apply,󱠆,C...  ...   \n",
       "4529   󹀁,Airbnb's COVID-19 safety practices apply,󱠆,C...  ...   \n",
       "10928  󹀁,Airbnb's COVID-19 safety practices apply,Car...  ...   \n",
       "11122  󹀁,Airbnb's COVID-19 safety practices apply,󱠆,C...  ...   \n",
       "4585   󹀁,Airbnb's COVID-19 safety practices apply,󱠆,C...  ...   \n",
       "7078   󹀁,Airbnb's COVID-19 safety practices apply,󱠆,C...  ...   \n",
       "5907   󹀁,Airbnb's COVID-19 safety practices apply,󱠆,C...  ...   \n",
       "\n",
       "                     country bathrooms  beds guests  toilets  bedrooms  \\\n",
       "4488                  Turkey         5     7     10        0         5   \n",
       "4844                 Denmark         0     2      2        1         1   \n",
       "11076                  Italy        18     0     16        0        19   \n",
       "10827          United States         2     1     16        0         1   \n",
       "4529              Seychelles         4     6      8        0         4   \n",
       "10928                Czechia        12    12     16        0        12   \n",
       "11122                  Italy         8    16     16        0        10   \n",
       "4585    United Arab Emirates         9     1     13        0         8   \n",
       "7078                  Greece         5     6     10        0         5   \n",
       "5907                  Greece         7     7     16        0         7   \n",
       "\n",
       "       studios               checkin      checkout         country_clean  \n",
       "4488         0         After 3 00 pm      10 00 am                Turkey  \n",
       "4844         0         After 1 00 pm      11 00 am               Denmark  \n",
       "11076        0     3 00 pm - 8 00 pm      11 00 am                 Italy  \n",
       "10827        0         After 3 00 pm  Not Provided         United States  \n",
       "4529         0        After 12 00 pm      10 00 am            Seychelles  \n",
       "10928        0   12 00 pm - 12 00 am  Not Provided               Czechia  \n",
       "11122        0    3 00 pm - 11 00 pm  Not Provided                 Italy  \n",
       "4585         0         After 3 00 pm  Not Provided  United Arab Emirates  \n",
       "7078         0          Not Provided      11 00 am                Greece  \n",
       "5907         0         After 3 00 pm  Not Provided                Greece  \n",
       "\n",
       "[10 rows x 23 columns]"
      ]
     },
     "execution_count": 23,
     "metadata": {},
     "output_type": "execute_result"
    }
   ],
   "source": [
    "# another method\n",
    "df.sort_values(by='price', ascending=False).head(10)"
   ]
  },
  {
   "cell_type": "code",
   "execution_count": 24,
   "id": "cc6834d2",
   "metadata": {},
   "outputs": [
    {
     "data": {
      "text/plain": [
       "66762"
      ]
     },
     "execution_count": 24,
     "metadata": {},
     "output_type": "execute_result"
    }
   ],
   "source": [
    "# Find the total number of guests that can be accommodated globally.\n",
    "\n",
    "total_guests=df['guests'].sum()\n",
    "total_guests"
   ]
  },
  {
   "cell_type": "code",
   "execution_count": 25,
   "id": "56814883",
   "metadata": {},
   "outputs": [
    {
     "name": "stdout",
     "output_type": "stream",
     "text": [
      "Average number of beds: 3.316751269035533, Average number of bathrooms: 1.8744240531042562\n"
     ]
    }
   ],
   "source": [
    "# What is the average number of beds and bathrooms per listing?\n",
    "\n",
    "avg_beds = df['beds'].mean()\n",
    "avg_bathrooms = df['bathrooms'].mean()\n",
    "print(f\"Average number of beds: {avg_beds}, Average number of bathrooms: {avg_bathrooms}\")"
   ]
  },
  {
   "cell_type": "code",
   "execution_count": 26,
   "id": "e3fd75f5",
   "metadata": {},
   "outputs": [
    {
     "data": {
      "text/plain": [
       "302"
      ]
     },
     "execution_count": 26,
     "metadata": {},
     "output_type": "execute_result"
    }
   ],
   "source": [
    "# Find how many listings are studio apartments (studios > 0).\n",
    "\n",
    "df[df['studios']>0].shape[0]"
   ]
  },
  {
   "cell_type": "code",
   "execution_count": 27,
   "id": "dd016c6a",
   "metadata": {},
   "outputs": [
    {
     "data": {
      "text/plain": [
       "1799"
      ]
     },
     "execution_count": 27,
     "metadata": {},
     "output_type": "execute_result"
    }
   ],
   "source": [
    "# Count how many listings have more than 3 bedrooms and at least 2 bathrooms.\n",
    "\n",
    "listings_3_bedrooms_2_bathrooms = df[(df['bedrooms'] > 3) & (df['bathrooms'] >= 2)].shape[0]\n",
    "listings_3_bedrooms_2_bathrooms"
   ]
  },
  {
   "cell_type": "code",
   "execution_count": 28,
   "id": "31a42f2a",
   "metadata": {},
   "outputs": [
    {
     "data": {
      "text/plain": [
       "'Onda'"
      ]
     },
     "execution_count": 28,
     "metadata": {},
     "output_type": "execute_result"
    }
   ],
   "source": [
    "# Find the host with the most number of listings.\n",
    "\n",
    "df['host_name'].value_counts().idxmax()"
   ]
  },
  {
   "cell_type": "code",
   "execution_count": 32,
   "id": "e32497d1",
   "metadata": {},
   "outputs": [
    {
     "name": "stdout",
     "output_type": "stream",
     "text": [
      "host_name\n",
      "Maria     1935\n",
      "Anna      1861\n",
      "Laura     1675\n",
      "George    1609\n",
      "John      1551\n",
      "Name: reviews, dtype: int32\n"
     ]
    }
   ],
   "source": [
    "# List top 5 host names by total number of reviews received.\n",
    "\n",
    "\n",
    "# Convert 'reviews' to numeric (it's stored as strings)\n",
    "\n",
    "df['reviews']= pd.to_numeric(df['reviews'], errors='coerce')\n",
    "\n",
    "\n",
    "top_5_hosts_by_reviews = df.groupby('host_name')['reviews'].sum().nlargest(5).astype(int)\n",
    "\n",
    "print(top_5_hosts_by_reviews)\n"
   ]
  },
  {
   "cell_type": "markdown",
   "id": "5c31ca61",
   "metadata": {},
   "source": [
    "### Grouping & Aggregation "
   ]
  },
  {
   "cell_type": "code",
   "execution_count": 35,
   "id": "f71fe270",
   "metadata": {},
   "outputs": [
    {
     "data": {
      "text/plain": [
       "country_clean\n",
       "Albania           4749.750000\n",
       "Argentina        10647.000000\n",
       "Armenia           6591.166667\n",
       "Australia        26735.000000\n",
       "Austria          20849.555556\n",
       "                     ...     \n",
       "Uruguay           9828.500000\n",
       "Uzbekistan        3502.000000\n",
       "Vanuatu          15718.000000\n",
       "Vietnam          11310.233010\n",
       "Åland Islands     5301.000000\n",
       "Name: price, Length: 119, dtype: float64"
      ]
     },
     "execution_count": 35,
     "metadata": {},
     "output_type": "execute_result"
    }
   ],
   "source": [
    "# Group by country and calculate the average price.\n",
    "df.groupby('country_clean')['price'].mean()\n",
    "\n"
   ]
  },
  {
   "cell_type": "code",
   "execution_count": 37,
   "id": "12c72e97",
   "metadata": {},
   "outputs": [
    {
     "data": {
      "text/plain": [
       "country_clean\n",
       "Albania            4\n",
       "Argentina          3\n",
       "Armenia            6\n",
       "Australia         25\n",
       "Austria           63\n",
       "                ... \n",
       "Uruguay            2\n",
       "Uzbekistan         2\n",
       "Vanuatu            1\n",
       "Vietnam          103\n",
       "Åland Islands      1\n",
       "Name: id, Length: 119, dtype: int64"
      ]
     },
     "execution_count": 37,
     "metadata": {},
     "output_type": "execute_result"
    }
   ],
   "source": [
    "#Group by country and find total number of listings.\n",
    "df.groupby('country_clean')['id'].size()\n"
   ]
  },
  {
   "cell_type": "code",
   "execution_count": 38,
   "id": "121693ea",
   "metadata": {},
   "outputs": [
    {
     "data": {
      "text/plain": [
       "country_clean\n",
       "Albania            4\n",
       "Argentina          3\n",
       "Armenia            6\n",
       "Australia         25\n",
       "Austria           63\n",
       "                ... \n",
       "Uruguay            2\n",
       "Uzbekistan         2\n",
       "Vanuatu            1\n",
       "Vietnam          103\n",
       "Åland Islands      1\n",
       "Name: id, Length: 119, dtype: int64"
      ]
     },
     "execution_count": 38,
     "metadata": {},
     "output_type": "execute_result"
    }
   ],
   "source": [
    "df.groupby('country_clean')['id'].count()"
   ]
  },
  {
   "attachments": {
    "image.png": {
     "image/png": "[encoded data removed]"
    }
   },
   "cell_type": "markdown",
   "id": "e812dd11",
   "metadata": {},
   "source": [
    "![image.png](attachment:image.png)"
   ]
  },
  {
   "cell_type": "code",
   "execution_count": 39,
   "id": "ee2be115",
   "metadata": {},
   "outputs": [
    {
     "data": {
      "text/plain": [
       "country_clean\n",
       "Albania          4.000000\n",
       "Argentina        1.333333\n",
       "Armenia          2.500000\n",
       "Australia        4.240000\n",
       "Austria          2.936508\n",
       "                   ...   \n",
       "Uruguay          2.000000\n",
       "Uzbekistan       2.000000\n",
       "Vanuatu          4.000000\n",
       "Vietnam          2.155340\n",
       "Åland Islands    4.000000\n",
       "Name: rating, Length: 119, dtype: float64"
      ]
     },
     "execution_count": 39,
     "metadata": {},
     "output_type": "execute_result"
    }
   ],
   "source": [
    "# Group by country and get the average rating per country.\n",
    "\n",
    "df.groupby('country_clean')['rating'].mean()"
   ]
  },
  {
   "cell_type": "code",
   "execution_count": 40,
   "id": "84b55c84",
   "metadata": {},
   "outputs": [
    {
     "data": {
      "text/plain": [
       "country_clean\n",
       "Chile          4.625000\n",
       "Malta          4.333333\n",
       "Peru           4.250000\n",
       "Puerto Rico    4.250000\n",
       "Australia      4.240000\n",
       "Name: rating, dtype: float64"
      ]
     },
     "execution_count": 40,
     "metadata": {},
     "output_type": "execute_result"
    }
   ],
   "source": [
    "# Find the top 5 countries with highest average price.\n",
    "\n",
    "df.groupby('country_clean')['rating'].mean().nlargest(5)"
   ]
  },
  {
   "cell_type": "code",
   "execution_count": 44,
   "id": "5fa12432",
   "metadata": {},
   "outputs": [
    {
     "data": {
      "text/plain": [
       "host_id\n",
       "23039.0        117.0\n",
       "44636.0         18.0\n",
       "50838.0         36.0\n",
       "52656.0         16.0\n",
       "58959.0         94.0\n",
       "               ...  \n",
       "473394426.0      0.0\n",
       "474292464.0      0.0\n",
       "475434018.0      0.0\n",
       "475582112.0      0.0\n",
       "475897305.0      0.0\n",
       "Name: reviews, Length: 10375, dtype: float64"
      ]
     },
     "execution_count": 44,
     "metadata": {},
     "output_type": "execute_result"
    }
   ],
   "source": [
    "# Group listings by host_id and compute total reviews per host.\n",
    "\n",
    "df.groupby('host_id')['reviews'].sum()"
   ]
  },
  {
   "cell_type": "code",
   "execution_count": 49,
   "id": "6f43ade7",
   "metadata": {},
   "outputs": [
    {
     "data": {
      "text/plain": [
       "'Bangladesh'"
      ]
     },
     "execution_count": 49,
     "metadata": {},
     "output_type": "execute_result"
    }
   ],
   "source": [
    "# Which country has the highest average number of guests per listing?\n",
    "avg_guests_by_country = df.groupby('country_clean')['guests'].mean()\n",
    "highest_avg_guests_country = avg_guests_by_country.idxmax()\n",
    "highest_avg_guests_country "
   ]
  },
  {
   "cell_type": "code",
   "execution_count": 51,
   "id": "a696e4b8",
   "metadata": {},
   "outputs": [
    {
     "data": {
      "text/plain": [
       "'Elizabeth'"
      ]
     },
     "execution_count": 51,
     "metadata": {},
     "output_type": "execute_result"
    }
   ],
   "source": [
    "# Which host has the highest average rating (minimum 3 listings)?\n",
    "\n",
    "host_avg_rating = df.groupby('host_name')['rating'].mean()\n",
    "host_avg_rating_3_listings = host_avg_rating[df.groupby('host_name').size() >= 3]\n",
    "highest_avg_rating_host = host_avg_rating_3_listings.idxmax()\n",
    "highest_avg_rating_host "
   ]
  },
  {
   "cell_type": "code",
   "execution_count": 52,
   "id": "edd0f558",
   "metadata": {},
   "outputs": [
    {
     "data": {
      "text/plain": [
       "host_name\n",
       "&quot;Das Rittergut Bömitz&quot;    2.0\n",
       "(Email Hidden By Airbnb)            2.0\n",
       ")                                   3.0\n",
       "- Wir Sind Dani & Arno              6.0\n",
       "0mar                                7.0\n",
       "                                   ... \n",
       "호종                                  1.0\n",
       "희순                                  1.0\n",
       "희원                                  1.0\n",
       "희정                                  1.0\n",
       "ﾍﾞｱｸﾙ                               1.0\n",
       "Name: bedrooms, Length: 6838, dtype: float64"
      ]
     },
     "execution_count": 52,
     "metadata": {},
     "output_type": "execute_result"
    }
   ],
   "source": [
    "# Group by host_name and compute average number of bedrooms.\n",
    "df.groupby('host_name')['bedrooms'].mean()\n"
   ]
  },
  {
   "cell_type": "code",
   "execution_count": 53,
   "id": "541b02e3",
   "metadata": {},
   "outputs": [
    {
     "data": {
      "text/plain": [
       "country_clean\n",
       "Albania           1\n",
       "Argentina         1\n",
       "Armenia           1\n",
       "Australia         6\n",
       "Austria          27\n",
       "                 ..\n",
       "United States    57\n",
       "Uruguay           1\n",
       "Uzbekistan        1\n",
       "Vanuatu           1\n",
       "Vietnam          23\n",
       "Name: id, Length: 103, dtype: int64"
      ]
     },
     "execution_count": 53,
     "metadata": {},
     "output_type": "execute_result"
    }
   ],
   "source": [
    "# Group by country and count how many listings have more than 3 beds.\n",
    "\n",
    "df[df['beds'] > 3].groupby('country_clean')['id'].count()"
   ]
  },
  {
   "cell_type": "code",
   "execution_count": 56,
   "id": "109ce6c2",
   "metadata": {},
   "outputs": [
    {
     "data": {
      "text/plain": [
       "host_name\n",
       "Itinere Villas                 39778795.0\n",
       "Olivers                        28876336.0\n",
       "Important Yachting             26093663.0\n",
       "David                          25466718.0\n",
       "Luxury Explorers Collection    24932180.0\n",
       "Name: revenue, dtype: float64"
      ]
     },
     "execution_count": 56,
     "metadata": {},
     "output_type": "execute_result"
    }
   ],
   "source": [
    "# Calculate the total revenue per host (price × guests) and find the top 5.\n",
    "df['revenue'] = df['price'] * df['guests']\n",
    "df.groupby('host_name')['revenue'].sum().nlargest(5)"
   ]
  },
  {
   "cell_type": "code",
   "execution_count": null,
   "id": "0d87eed2",
   "metadata": {},
   "outputs": [
    {
     "ename": "SyntaxError",
     "evalue": "invalid character '🔄' (U+1F504) (1342420750.py, line 1)",
     "output_type": "error",
     "traceback": [
      "\u001b[1;36m  Cell \u001b[1;32mIn[30], line 1\u001b[1;36m\u001b[0m\n\u001b[1;33m    🔄 Section 3: Grouping & Aggregation (Q21–30)\u001b[0m\n\u001b[1;37m    ^\u001b[0m\n\u001b[1;31mSyntaxError\u001b[0m\u001b[1;31m:\u001b[0m invalid character '🔄' (U+1F504)\n"
     ]
    }
   ],
   "source": [
    "\n",
    "🧹 Section 4: String & List Column Parsing (Q31–40)\n",
    "Parse the amenities column to count how many listings offer Wi-Fi.\n",
    "\n",
    "Find the top 10 most common amenities across all listings.\n",
    "\n",
    "How many listings mention “Pet friendly” in the features column?\n",
    "\n",
    "Check how many listings have both “Kitchen” and “Washer” in amenities.\n",
    "\n",
    "Count listings that include “No smoking” in safety_rules.\n",
    "\n",
    "Create a new column: amenity_count = number of amenities per listing.\n",
    "\n",
    "Count listings with amenity_count > 15.\n",
    "\n",
    "Create a column luxury_flag if price > $500 and amenity_count > 10.\n",
    "\n",
    "Extract city name (if possible) from address and count top 5 cities.\n",
    "\n",
    "Find listings with check-in after 3 PM and check-out before 9 AM.\n",
    "\n",
    "📈 Section 5: Visualization-Oriented Insights (Q41–45)\n",
    "Plot histogram of prices (log scale).\n",
    "\n",
    "Plot bar chart of average price by country.\n",
    "\n",
    "Create boxplot of ratings grouped by country.\n",
    "\n",
    "Plot scatterplot of price vs. number of reviews.\n",
    "\n",
    "Generate a pie chart showing listing distribution by studio vs. non-studio.\n",
    "\n",
    "📦 Section 6: Business-Oriented Scenarios (Q46–50)\n",
    "Identify listings that are over-priced (price > mean + 2×std).\n",
    "\n",
    "Create a flag column family_friendly if guests ≥ 4 and ≥ 2 beds.\n",
    "\n",
    "Flag listings with missing safety rules as \"needs review.\"\n",
    "\n",
    "Which countries have the most luxury listings (price > $500)?\n",
    "\n",
    "Export the cleaned dataset to a CSV file (airbnb_cleaned.csv).\n",
    "\n",
    "\n",
    "\n"
   ]
  }
 ],
 "metadata": {
  "kernelspec": {
   "display_name": "base",
   "language": "python",
   "name": "python3"
  },
  "language_info": {
   "codemirror_mode": {
    "name": "ipython",
    "version": 3
   },
   "file_extension": ".py",
   "mimetype": "text/x-python",
   "name": "python",
   "nbconvert_exporter": "python",
   "pygments_lexer": "ipython3",
   "version": "3.12.4"
  }
 },
 "nbformat": 4,
 "nbformat_minor": 5
}
